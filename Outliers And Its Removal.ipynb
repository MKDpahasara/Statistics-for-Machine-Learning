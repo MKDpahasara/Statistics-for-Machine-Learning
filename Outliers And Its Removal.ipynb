{
 "cells": [
  {
   "cell_type": "markdown",
   "id": "bc6b9569",
   "metadata": {},
   "source": [
    "# Outliers And Its Removal"
   ]
  },
  {
   "cell_type": "markdown",
   "id": "2d76b507",
   "metadata": {},
   "source": [
    "Outliers are data points that significantly differ from other observations in a dataset. To identify and potentially remove outliers in Python, statistical methods or visualization techniques can be used. One common approach is based on the interquartile range (IQR)."
   ]
  },
  {
   "cell_type": "code",
   "execution_count": 25,
   "id": "8d689674",
   "metadata": {},
   "outputs": [],
   "source": [
    "import numpy as np\n",
    "import pandas as pd"
   ]
  },
  {
   "cell_type": "code",
   "execution_count": 15,
   "id": "b1c0a5bb",
   "metadata": {},
   "outputs": [],
   "source": [
    "numbers = [10, 20, 30, 40, 50, 200, 30, 20, 25, 22]"
   ]
  },
  {
   "cell_type": "code",
   "execution_count": 16,
   "id": "1115adeb",
   "metadata": {},
   "outputs": [],
   "source": [
    "data = np.array(numbers)"
   ]
  },
  {
   "cell_type": "code",
   "execution_count": 17,
   "id": "4f4362ef",
   "metadata": {},
   "outputs": [
    {
     "name": "stdout",
     "output_type": "stream",
     "text": [
      "17.0\n"
     ]
    }
   ],
   "source": [
    "Q1 = np.percentile(data, 25)\n",
    "Q3 = np.percentile(data, 75)\n",
    "IQR = Q3 - Q1\n",
    "print(IQR)"
   ]
  },
  {
   "cell_type": "markdown",
   "id": "7bc91ac1",
   "metadata": {},
   "source": [
    "***The Interquartile Range (IQR) is a statistical measure used to describe the spread or dispersion of a dataset. It is computed as the difference between the third quartile (Q3) and the first quartile (Q1) in a dataset.***"
   ]
  },
  {
   "cell_type": "code",
   "execution_count": 18,
   "id": "84e31aa0",
   "metadata": {},
   "outputs": [
    {
     "name": "stdout",
     "output_type": "stream",
     "text": [
      "lower level is  -5.0\n",
      "upper level is  63.0\n"
     ]
    }
   ],
   "source": [
    "lower = Q1 - 1.5*IQR\n",
    "upper = Q3 + 1.5*IQR\n",
    "print(\"lower level is \",lower)\n",
    "print(\"upper level is \",upper)"
   ]
  },
  {
   "cell_type": "code",
   "execution_count": 22,
   "id": "cfc58c6b",
   "metadata": {},
   "outputs": [
    {
     "name": "stdout",
     "output_type": "stream",
     "text": [
      "outliers [200]\n"
     ]
    }
   ],
   "source": [
    "outliers = (data < lower) | (data > upper)\n",
    "print(\"outliers\",data[outliers])"
   ]
  },
  {
   "cell_type": "code",
   "execution_count": 27,
   "id": "83bd1893",
   "metadata": {},
   "outputs": [],
   "source": [
    "numbers_without_outliers = data[~outliers]"
   ]
  },
  {
   "cell_type": "code",
   "execution_count": 28,
   "id": "4c2571db",
   "metadata": {},
   "outputs": [
    {
     "name": "stdout",
     "output_type": "stream",
     "text": [
      "numbers without outliers =  [10 20 30 40 50 30 20 25 22]\n"
     ]
    }
   ],
   "source": [
    "print(\"numbers without outliers = \",numbers_without_outliers)"
   ]
  },
  {
   "cell_type": "code",
   "execution_count": null,
   "id": "94d15a79",
   "metadata": {},
   "outputs": [],
   "source": []
  }
 ],
 "metadata": {
  "kernelspec": {
   "display_name": "Python 3 (ipykernel)",
   "language": "python",
   "name": "python3"
  },
  "language_info": {
   "codemirror_mode": {
    "name": "ipython",
    "version": 3
   },
   "file_extension": ".py",
   "mimetype": "text/x-python",
   "name": "python",
   "nbconvert_exporter": "python",
   "pygments_lexer": "ipython3",
   "version": "3.9.12"
  }
 },
 "nbformat": 4,
 "nbformat_minor": 5
}
