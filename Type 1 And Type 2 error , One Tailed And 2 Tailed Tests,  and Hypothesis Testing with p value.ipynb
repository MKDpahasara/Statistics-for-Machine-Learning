{
 "cells": [
  {
   "cell_type": "markdown",
   "id": "4b327268",
   "metadata": {},
   "source": [
    "# Type 1 And Type 2 error , One Tailed And 2 Tailed Tests,  and Hypothesis Testing with p value"
   ]
  },
  {
   "cell_type": "markdown",
   "id": "b5013dce",
   "metadata": {},
   "source": [
    "## Type I and Type II Errors:"
   ]
  },
  {
   "cell_type": "markdown",
   "id": "1e36614e",
   "metadata": {},
   "source": [
    "**Type I Error**: Rejecting a true null hypothesis.\n",
    "\n",
    "**Type II Error**: Failing to reject a false null hypothesis."
   ]
  },
  {
   "cell_type": "markdown",
   "id": "24b71600",
   "metadata": {},
   "source": [
    "# One-Tailed and Two-Tailed Tests:"
   ]
  },
  {
   "cell_type": "markdown",
   "id": "59a857b5",
   "metadata": {},
   "source": [
    "**One-Tailed Test**: Focuses on a specific direction of the hypothesis (e.g., greater than or less than).\n",
    "    \n",
    "**Two-Tailed Test**: Examines differences in both directions."
   ]
  },
  {
   "cell_type": "markdown",
   "id": "8fea0d52",
   "metadata": {},
   "source": [
    "# Hypothesis Testing and p-value:"
   ]
  },
  {
   "cell_type": "markdown",
   "id": "932f51fe",
   "metadata": {},
   "source": [
    "**Hypothesis Testing**: Analyzing sample data to make inferences about a population.\n",
    "\n",
    "**p-value**: Probability of observing the data given that the null hypothesis is true."
   ]
  },
  {
   "cell_type": "markdown",
   "id": "26908217",
   "metadata": {},
   "source": [
    "# Steps for Hypothesis Testing:"
   ]
  },
  {
   "cell_type": "markdown",
   "id": "caca9550",
   "metadata": {},
   "source": [
    "**1. State the Hypotheses.**\n",
    "   Null Hypothesis : Represents the default assumption or no effect, no difference, or no relationship.\n",
    "   Alternative Hypothesis: Represents what you want to test for, suggests an effect, difference, or relationship.\n",
    "   \n",
    "**2. Choose a Significance Level (α).**\n",
    "Select a threshold for the acceptable probability of making a Type I error (rejecting the null when it's actually true). Common values are 0.05, 0.01, etc.\n",
    "\n",
    "**3. Select the Appropriate Statistical Test.**\n",
    "Choose a statistical test based on the nature of your data, the hypothesis, and assumptions (e.g., t-test, chi-square test, ANOVA, etc.).\n",
    "\n",
    "**4. Collect and Prepare Data.**\n",
    "Gather the necessary sample data that meets the assumptions of the chosen test. Clean and preprocess the data if needed.\n",
    "\n",
    "**5. Calculate Test Statistic.**\n",
    "Compute the test statistic based on the chosen test. This statistic measures the strength of evidence against the null hypothesis.\n",
    "\n",
    "**6. Determine the Critical Region.**\n",
    "Define the critical region or rejection region based on the chosen significance level (α).\n",
    "\n",
    "**7. Compute p-value.**\n",
    "Calculate the p-value, which represents the probability of observing the data if the null hypothesis is true. It's compared with the significance level to make a decision.\n",
    "\n",
    "**8. Make a Decision.**\n",
    "Compare the p-value to the significance level\n",
    "\n",
    "**9. Draw Conclusion.**\n",
    "Based on the decision made, interpret the results in the context of the problem being investigated.\n",
    "\n",
    "**10. Report Findings.**\n",
    "\n",
    "Present the findings, including the hypothesis tested, the statistical test used, results, and conclusion.\n",
    "\n"
   ]
  },
  {
   "cell_type": "code",
   "execution_count": 2,
   "id": "8108a5f2",
   "metadata": {},
   "outputs": [
    {
     "name": "stdout",
     "output_type": "stream",
     "text": [
      "Reject null hypothesis (Type I Error): Population mean is less than 0.5.\n",
      "P-value: 1.6306518193934613e-09\n"
     ]
    }
   ],
   "source": [
    "import numpy as np\n",
    "from scipy import stats\n",
    "\n",
    "# Generating example data (normal distribution)\n",
    "np.random.seed(42)\n",
    "data = np.random.normal(loc=0, scale=1, size=100)\n",
    "\n",
    "# Performing a one-sample t-test\n",
    "t_stat, p_value = stats.ttest_1samp(data, 0.5)  # Null hypothesis: Population mean is 0.5\n",
    "\n",
    "# Setting the significance level\n",
    "alpha = 0.05\n",
    "\n",
    "# Determine Type I and Type II Errors\n",
    "if p_value < alpha:\n",
    "    if t_stat > 0:  # One-tailed test (greater than)\n",
    "        print(\"Reject null hypothesis (Type I Error): Population mean is greater than 0.5.\")\n",
    "    else:\n",
    "        print(\"Reject null hypothesis (Type I Error): Population mean is less than 0.5.\")\n",
    "else:\n",
    "    if t_stat > 0:  # One-tailed test (greater than)\n",
    "        print(\"Fail to reject null hypothesis (Type II Error): Population mean is not greater than 0.5.\")\n",
    "    else:\n",
    "        print(\"Fail to reject null hypothesis (Type II Error): Population mean is not less than 0.5.\")\n",
    "\n",
    "# Print p-value\n",
    "print(f\"P-value: {p_value}\")"
   ]
  },
  {
   "cell_type": "markdown",
   "id": "6c99744f",
   "metadata": {},
   "source": [
    "Reject null hypothesis (Type I Error): Population mean is less than 0.5.\n",
    "P-value: 1.6306518193934613e-09"
   ]
  },
  {
   "cell_type": "code",
   "execution_count": null,
   "id": "cae9b4db",
   "metadata": {},
   "outputs": [],
   "source": []
  }
 ],
 "metadata": {
  "kernelspec": {
   "display_name": "Python 3 (ipykernel)",
   "language": "python",
   "name": "python3"
  },
  "language_info": {
   "codemirror_mode": {
    "name": "ipython",
    "version": 3
   },
   "file_extension": ".py",
   "mimetype": "text/x-python",
   "name": "python",
   "nbconvert_exporter": "python",
   "pygments_lexer": "ipython3",
   "version": "3.9.12"
  }
 },
 "nbformat": 4,
 "nbformat_minor": 5
}
