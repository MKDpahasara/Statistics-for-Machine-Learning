{
 "cells": [
  {
   "cell_type": "markdown",
   "id": "fbe4ce7e",
   "metadata": {},
   "source": [
    "# Measure Of Central Tendency(Mean, Median,Mode) "
   ]
  },
  {
   "cell_type": "markdown",
   "id": "55c065b7",
   "metadata": {},
   "source": [
    "Mean is the average value, sensitive to extreme values.\n",
    "Median is the middle value, not influenced by extreme values.\n",
    "Mode is the most frequent value or values in the dataset."
   ]
  },
  {
   "cell_type": "code",
   "execution_count": 10,
   "id": "30b9f683",
   "metadata": {},
   "outputs": [],
   "source": [
    "import pandas as pd\n",
    "import numpy as np"
   ]
  },
  {
   "cell_type": "code",
   "execution_count": 21,
   "id": "34238a00",
   "metadata": {},
   "outputs": [],
   "source": [
    "df = {'data' : [12, 34, 23, 45, 67, 88, 91, 18, 22, 23, 37, 55, 81, 29, 43, 62, 75, 98, 9, 51, 73, 15, 25, 68, 39, 58, 84, 19, 41, 50, 77, 33, 92, 6, 47, 63, 86, 14, 79, 3, 23, 96, 69, 27, 72, 46, 94, 11, 65, 82, 56, 23, 36]}\n",
    "numbers = pd.DataFrame(df)"
   ]
  },
  {
   "cell_type": "markdown",
   "id": "9972100b",
   "metadata": {},
   "source": [
    "# Mean"
   ]
  },
  {
   "cell_type": "code",
   "execution_count": 22,
   "id": "f4cc1aaf",
   "metadata": {},
   "outputs": [
    {
     "name": "stdout",
     "output_type": "stream",
     "text": [
      "Mean is  49.716981132075475\n"
     ]
    }
   ],
   "source": [
    "Mean = numbers['data'].mean()\n",
    "print(\"Mean is \",Mean)"
   ]
  },
  {
   "cell_type": "markdown",
   "id": "e4065dd1",
   "metadata": {},
   "source": [
    "# Median"
   ]
  },
  {
   "cell_type": "code",
   "execution_count": 23,
   "id": "cf6202e6",
   "metadata": {},
   "outputs": [
    {
     "name": "stdout",
     "output_type": "stream",
     "text": [
      "median is  47.0\n"
     ]
    }
   ],
   "source": [
    "Median = numbers['data'].median()\n",
    "print(\"median is \",Median)"
   ]
  },
  {
   "cell_type": "markdown",
   "id": "8eb358f7",
   "metadata": {},
   "source": [
    "# Mode"
   ]
  },
  {
   "cell_type": "code",
   "execution_count": 25,
   "id": "0ef450b1",
   "metadata": {},
   "outputs": [
    {
     "name": "stdout",
     "output_type": "stream",
     "text": [
      "median is  23\n"
     ]
    }
   ],
   "source": [
    "Mode = numbers['data'].mode()\n",
    "print(\"median is \",Mode[0]) #we select the first Mode"
   ]
  },
  {
   "cell_type": "code",
   "execution_count": null,
   "id": "c06cdeb9",
   "metadata": {},
   "outputs": [],
   "source": []
  }
 ],
 "metadata": {
  "kernelspec": {
   "display_name": "Python 3 (ipykernel)",
   "language": "python",
   "name": "python3"
  },
  "language_info": {
   "codemirror_mode": {
    "name": "ipython",
    "version": 3
   },
   "file_extension": ".py",
   "mimetype": "text/x-python",
   "name": "python",
   "nbconvert_exporter": "python",
   "pygments_lexer": "ipython3",
   "version": "3.9.12"
  }
 },
 "nbformat": 4,
 "nbformat_minor": 5
}
