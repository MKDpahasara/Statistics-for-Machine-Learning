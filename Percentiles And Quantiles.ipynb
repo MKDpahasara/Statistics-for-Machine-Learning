{
 "cells": [
  {
   "cell_type": "markdown",
   "id": "e9f06e5c",
   "metadata": {},
   "source": [
    "# Percentiles And Quantiles"
   ]
  },
  {
   "cell_type": "markdown",
   "id": "3be764f9",
   "metadata": {},
   "source": [
    "Percentiles - divide a dataset into 100 equal parts. For example, the 50th percentile (also known as the median) splits the data into two equal parts: 50% of the data lies below this value, and 50% lies above it\n",
    "\n",
    "Quartiles- Divide the data into four parts (quarters). The three quartiles (Q1, Q2, Q3) represent the 25th, 50th (median), and 75th percentiles, respectively."
   ]
  },
  {
   "cell_type": "code",
   "execution_count": 2,
   "id": "44ea672c",
   "metadata": {},
   "outputs": [],
   "source": [
    "import pandas as pd\n",
    "import numpy as np"
   ]
  },
  {
   "cell_type": "code",
   "execution_count": 5,
   "id": "4c2249d8",
   "metadata": {},
   "outputs": [],
   "source": [
    "df = {'numbers': [10, 20, 30, 40, 50, 20, 30, 20]}"
   ]
  },
  {
   "cell_type": "code",
   "execution_count": 6,
   "id": "fc79dc6f",
   "metadata": {},
   "outputs": [],
   "source": [
    "data = pd.DataFrame(df)"
   ]
  },
  {
   "cell_type": "markdown",
   "id": "edaf4df7",
   "metadata": {},
   "source": [
    "## Percentiles"
   ]
  },
  {
   "cell_type": "code",
   "execution_count": 9,
   "id": "8dcee7b8",
   "metadata": {},
   "outputs": [
    {
     "name": "stdout",
     "output_type": "stream",
     "text": [
      "50 percentile =  25.0\n"
     ]
    }
   ],
   "source": [
    "_50_percentile = data['numbers'].quantile(0.5)\n",
    "print('50 percentile = ',_50_percentile)"
   ]
  },
  {
   "cell_type": "code",
   "execution_count": 12,
   "id": "4dc69f81",
   "metadata": {},
   "outputs": [
    {
     "name": "stdout",
     "output_type": "stream",
     "text": [
      "90 percentile =  43.0\n"
     ]
    }
   ],
   "source": [
    "_90_percentile = data['numbers'].quantile(0.9)\n",
    "print('90 percentile = ',_90_percentile)"
   ]
  },
  {
   "cell_type": "markdown",
   "id": "413c1a3e",
   "metadata": {},
   "source": [
    "## Quantiles"
   ]
  },
  {
   "cell_type": "code",
   "execution_count": 14,
   "id": "8b113108",
   "metadata": {},
   "outputs": [
    {
     "name": "stdout",
     "output_type": "stream",
     "text": [
      "Quartiles (25th, 50th, 75th percentiles) = \n",
      "0.25    20.0\n",
      "0.50    25.0\n",
      "0.75    32.5\n",
      "Name: numbers, dtype: float64\n"
     ]
    }
   ],
   "source": [
    "quartiles = data['numbers'].quantile([0.25, 0.5, 0.75])\n",
    "print(\"Quartiles (25th, 50th, 75th percentiles) = \")\n",
    "print(quartiles)"
   ]
  },
  {
   "cell_type": "code",
   "execution_count": null,
   "id": "1f8f8db9",
   "metadata": {},
   "outputs": [],
   "source": []
  }
 ],
 "metadata": {
  "kernelspec": {
   "display_name": "Python 3 (ipykernel)",
   "language": "python",
   "name": "python3"
  },
  "language_info": {
   "codemirror_mode": {
    "name": "ipython",
    "version": 3
   },
   "file_extension": ".py",
   "mimetype": "text/x-python",
   "name": "python",
   "nbconvert_exporter": "python",
   "pygments_lexer": "ipython3",
   "version": "3.9.12"
  }
 },
 "nbformat": 4,
 "nbformat_minor": 5
}
