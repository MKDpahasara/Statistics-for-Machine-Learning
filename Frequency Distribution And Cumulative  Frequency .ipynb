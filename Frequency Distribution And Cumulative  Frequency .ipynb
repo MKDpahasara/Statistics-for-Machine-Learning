{
 "cells": [
  {
   "cell_type": "markdown",
   "id": "32e6ded7",
   "metadata": {},
   "source": [
    "# Frequency Distribution And Cumulative  Frequency "
   ]
  },
  {
   "cell_type": "markdown",
   "id": "6ebd580d",
   "metadata": {},
   "source": [
    "Frequency distribution provides a count of occurrences for each distinct value in the dataset.\n",
    "Cumulative frequency is the running total of frequencies and shows the count of observations up to a particular value or category.\n",
    "Both concepts are valuable for understanding the distribution and characteristics of data. Cumulative frequency builds upon the frequency distribution by providing cumulative information, which can be helpful for various analytical purposes."
   ]
  },
  {
   "cell_type": "code",
   "execution_count": 2,
   "id": "77e5cd9e",
   "metadata": {},
   "outputs": [],
   "source": [
    "import pandas as pd\n",
    "import numpy as np"
   ]
  },
  {
   "cell_type": "code",
   "execution_count": 6,
   "id": "cf0e20fc",
   "metadata": {},
   "outputs": [],
   "source": [
    "df = {'data' : [10, 20, 30, 40, 50, 20, 30, 20, 20, 30, 40, 60, 60, 50, 30]}\n",
    "numbers = pd.DataFrame(df)"
   ]
  },
  {
   "cell_type": "markdown",
   "id": "2e7d5eb6",
   "metadata": {},
   "source": [
    "## Frequency Distribution"
   ]
  },
  {
   "cell_type": "code",
   "execution_count": 8,
   "id": "4f89d2e9",
   "metadata": {},
   "outputs": [
    {
     "name": "stdout",
     "output_type": "stream",
     "text": [
      "Frequency Distribution is\n",
      "10    1\n",
      "20    4\n",
      "30    4\n",
      "40    2\n",
      "50    2\n",
      "60    2\n",
      "Name: data, dtype: int64\n"
     ]
    }
   ],
   "source": [
    "frequency_distribution = numbers['data'].value_counts().sort_index()\n",
    "print(\"Frequency Distribution is\" )\n",
    "print( frequency_distribution )"
   ]
  },
  {
   "cell_type": "markdown",
   "id": "a1e8e4f5",
   "metadata": {},
   "source": [
    "## Cumulative Frequency"
   ]
  },
  {
   "cell_type": "code",
   "execution_count": 9,
   "id": "d5ba7ca5",
   "metadata": {},
   "outputs": [
    {
     "name": "stdout",
     "output_type": "stream",
     "text": [
      "Cumulative Frequency is \n",
      "10     1\n",
      "20     5\n",
      "30     9\n",
      "40    11\n",
      "50    13\n",
      "60    15\n",
      "Name: data, dtype: int64\n"
     ]
    }
   ],
   "source": [
    "cumulative_frequency = frequency_distribution.cumsum()\n",
    "print(\"Cumulative Frequency is \")\n",
    "print(cumulative_frequency)"
   ]
  },
  {
   "cell_type": "code",
   "execution_count": null,
   "id": "79fc215e",
   "metadata": {},
   "outputs": [],
   "source": []
  }
 ],
 "metadata": {
  "kernelspec": {
   "display_name": "Python 3 (ipykernel)",
   "language": "python",
   "name": "python3"
  },
  "language_info": {
   "codemirror_mode": {
    "name": "ipython",
    "version": 3
   },
   "file_extension": ".py",
   "mimetype": "text/x-python",
   "name": "python",
   "nbconvert_exporter": "python",
   "pygments_lexer": "ipython3",
   "version": "3.9.12"
  }
 },
 "nbformat": 4,
 "nbformat_minor": 5
}
