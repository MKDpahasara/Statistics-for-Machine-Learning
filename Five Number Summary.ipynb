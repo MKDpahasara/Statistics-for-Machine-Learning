{
 "cells": [
  {
   "cell_type": "markdown",
   "id": "e5330ed6",
   "metadata": {},
   "source": [
    "# Five Number Summary"
   ]
  },
  {
   "cell_type": "markdown",
   "id": "b8aeedc4",
   "metadata": {},
   "source": [
    "The five-number summary is a set of descriptive statistics that provides a concise summary of the distribution of a dataset. It consists of the following five values: minimum, first quartile (Q1), median (second quartile or Q2), third quartile (Q3), and maximum."
   ]
  },
  {
   "cell_type": "code",
   "execution_count": 1,
   "id": "f2e2970a",
   "metadata": {},
   "outputs": [],
   "source": [
    "import pandas as pd\n",
    "import numpy as np"
   ]
  },
  {
   "cell_type": "code",
   "execution_count": 2,
   "id": "a08bd734",
   "metadata": {},
   "outputs": [],
   "source": [
    "df = {'numbers': [10, 20, 30, 40, 50, 20, 30, 20]}"
   ]
  },
  {
   "cell_type": "code",
   "execution_count": 3,
   "id": "c9279024",
   "metadata": {},
   "outputs": [],
   "source": [
    "data = pd.DataFrame(df)"
   ]
  },
  {
   "cell_type": "code",
   "execution_count": 4,
   "id": "a6fd742f",
   "metadata": {},
   "outputs": [
    {
     "name": "stdout",
     "output_type": "stream",
     "text": [
      "Minimum: 10\n",
      "First Quartile (Q1): 20.0\n",
      "Median (Second Quartile): 25.0\n",
      "Third Quartile (Q3): 32.5\n",
      "Maximum: 50\n"
     ]
    }
   ],
   "source": [
    "min_value = data['numbers'].min()\n",
    "Q1 = data['numbers'].quantile(0.25)\n",
    "median = data['numbers'].median()\n",
    "Q3 = data['numbers'].quantile(0.75)\n",
    "max_value = data['numbers'].max()\n",
    "\n",
    "print(\"Minimum:\", min_value)\n",
    "print(\"First Quartile (Q1):\", Q1)\n",
    "print(\"Median (Second Quartile):\", median)\n",
    "print(\"Third Quartile (Q3):\", Q3)\n",
    "print(\"Maximum:\", max_value)"
   ]
  },
  {
   "cell_type": "code",
   "execution_count": null,
   "id": "1194305f",
   "metadata": {},
   "outputs": [],
   "source": []
  }
 ],
 "metadata": {
  "kernelspec": {
   "display_name": "Python 3 (ipykernel)",
   "language": "python",
   "name": "python3"
  },
  "language_info": {
   "codemirror_mode": {
    "name": "ipython",
    "version": 3
   },
   "file_extension": ".py",
   "mimetype": "text/x-python",
   "name": "python",
   "nbconvert_exporter": "python",
   "pygments_lexer": "ipython3",
   "version": "3.9.12"
  }
 },
 "nbformat": 4,
 "nbformat_minor": 5
}
