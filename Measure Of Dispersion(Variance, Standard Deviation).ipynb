{
 "cells": [
  {
   "cell_type": "markdown",
   "id": "404ec90f",
   "metadata": {},
   "source": [
    "# Measure Of Dispersion(Variance, Standard Deviation)"
   ]
  },
  {
   "cell_type": "markdown",
   "id": "69d95707",
   "metadata": {},
   "source": [
    "### Variance\n",
    "Variance is a measure of how spread out the numbers in a dataset are from the mean (average).\n",
    "It is calculated by taking the average of the squared differences between each data point and the mean.\n",
    "Variance is represented by squared units (e.g., if the data is in meters, the variance will be in square meters).\n",
    "### Standard Deviation\n",
    "Standard deviation is a measure of the amount of variation or dispersion in a dataset.\n",
    "It is the square root of the variance and provides a measure of how much the data deviates from the mean.\n",
    "Standard deviation is represented in the same units as the original data (e.g., if the data is in meters, the standard deviation will be in meters).\n",
    "\n",
    " while both variance and standard deviation provide a measure of dispersion within a dataset, standard deviation is often preferred because it is expressed in the same units as the original data, making it easier to interpret in the context of the data. The standard deviation is the square root of the variance and is therefore directly related to the variance."
   ]
  },
  {
   "cell_type": "code",
   "execution_count": 1,
   "id": "f7a2462d",
   "metadata": {},
   "outputs": [],
   "source": [
    "import pandas as pd\n",
    "import numpy as np"
   ]
  },
  {
   "cell_type": "code",
   "execution_count": 3,
   "id": "31c59361",
   "metadata": {},
   "outputs": [],
   "source": [
    "df = [12, 34, 23, 45, 67, 88, 91, 18, 22, 23, 37, 55, 81, 29, 43, 62, 75, 98, 9, 51, 73, 15, 25, 68, 39, 58, 84, 19, 41, 50, 77, 33, 92, 6, 47, 63, 86, 14, 79, 3, 23, 96, 69, 27, 72, 46, 94, 11, 65, 82, 56, 23, 36]"
   ]
  },
  {
   "cell_type": "markdown",
   "id": "765ffac9",
   "metadata": {},
   "source": [
    "# Variance"
   ]
  },
  {
   "cell_type": "code",
   "execution_count": 5,
   "id": "5f060ece",
   "metadata": {},
   "outputs": [
    {
     "name": "stdout",
     "output_type": "stream",
     "text": [
      "Variance is  760.882164471342\n"
     ]
    }
   ],
   "source": [
    "Variance = np.var(df)\n",
    "print(\"Variance is \", Variance)"
   ]
  },
  {
   "cell_type": "markdown",
   "id": "5ef006b0",
   "metadata": {},
   "source": [
    "# Standard Deviation"
   ]
  },
  {
   "cell_type": "code",
   "execution_count": 6,
   "id": "e9c5feac",
   "metadata": {},
   "outputs": [
    {
     "name": "stdout",
     "output_type": "stream",
     "text": [
      "Standard Deviation is  27.584092598295527\n"
     ]
    }
   ],
   "source": [
    "Standard_Deviation = np.std(df)\n",
    "print(\"Standard Deviation is \", Standard_Deviation)"
   ]
  },
  {
   "cell_type": "code",
   "execution_count": null,
   "id": "8dae885e",
   "metadata": {},
   "outputs": [],
   "source": []
  }
 ],
 "metadata": {
  "kernelspec": {
   "display_name": "Python 3 (ipykernel)",
   "language": "python",
   "name": "python3"
  },
  "language_info": {
   "codemirror_mode": {
    "name": "ipython",
    "version": 3
   },
   "file_extension": ".py",
   "mimetype": "text/x-python",
   "name": "python",
   "nbconvert_exporter": "python",
   "pygments_lexer": "ipython3",
   "version": "3.9.12"
  }
 },
 "nbformat": 4,
 "nbformat_minor": 5
}
