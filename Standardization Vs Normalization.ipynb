{
 "cells": [
  {
   "cell_type": "markdown",
   "id": "339b7df9",
   "metadata": {},
   "source": [
    "# Standardization Vs Normalization"
   ]
  },
  {
   "attachments": {
    "1.png": {
     "image/png": "[encoded data removed]"
    }
   },
   "cell_type": "markdown",
   "id": "51fdf7d6",
   "metadata": {},
   "source": [
    "Feature scaling in machine learning is one of the most critical steps during the pre-processing of data before creating a machine learning model. Scaling can make a difference between a weak machine learning model and a better one. The most common techniques of feature scaling are Normalization and Standardization.\n",
    "\n",
    "![1.png](attachment:1.png)\n",
    "\n",
    "**Standardization** centers data around zero and scales it to have unit variance, preserving the distribution shape. It's robust to outliers but doesn’t limit values to a specific range.\n",
    "\n",
    "**Normalization** scales values to a specific range, making them comparable, but may be influenced by outliers. It constrains values to a specified range, often [0, 1] or [-1, 1]."
   ]
  },
  {
   "cell_type": "code",
   "execution_count": 1,
   "id": "b9f355c7",
   "metadata": {},
   "outputs": [],
   "source": [
    "import numpy as np"
   ]
  },
  {
   "cell_type": "code",
   "execution_count": 21,
   "id": "46240577",
   "metadata": {},
   "outputs": [],
   "source": [
    "Age  = np.array([[23], [20], [30], [45], [52],[23], [26], [32], [56], [51]])"
   ]
  },
  {
   "cell_type": "code",
   "execution_count": 22,
   "id": "9cd1e170",
   "metadata": {},
   "outputs": [],
   "source": [
    "from sklearn.preprocessing import StandardScaler, MinMaxScaler #StandardScaler = Standardization and MinMaxScaler = Normalization  "
   ]
  },
  {
   "cell_type": "markdown",
   "id": "ee92fe54",
   "metadata": {},
   "source": [
    "## Standardization"
   ]
  },
  {
   "cell_type": "code",
   "execution_count": 24,
   "id": "edf22cab",
   "metadata": {},
   "outputs": [],
   "source": [
    "Standardization = StandardScaler()\n",
    "Standardized_Age = Standardization.fit_transform(Age)"
   ]
  },
  {
   "cell_type": "code",
   "execution_count": 25,
   "id": "c544fc56",
   "metadata": {},
   "outputs": [
    {
     "name": "stdout",
     "output_type": "stream",
     "text": [
      "Standardized Age:\n",
      "[[-0.97952809]\n",
      " [-1.20910499]\n",
      " [-0.44384867]\n",
      " [ 0.70403582]\n",
      " [ 1.23971524]\n",
      " [-0.97952809]\n",
      " [-0.7499512 ]\n",
      " [-0.2907974 ]\n",
      " [ 1.54581777]\n",
      " [ 1.16318961]]\n",
      "\n"
     ]
    }
   ],
   "source": [
    "print(\"Standardized Age:\")\n",
    "print(Standardized_Age)\n",
    "print()"
   ]
  },
  {
   "cell_type": "markdown",
   "id": "915fd72c",
   "metadata": {},
   "source": [
    "## Normalization"
   ]
  },
  {
   "cell_type": "code",
   "execution_count": 26,
   "id": "94a6024f",
   "metadata": {},
   "outputs": [],
   "source": [
    "Normalization = MinMaxScaler()\n",
    "Normalized_Age = Normalization.fit_transform(Age)"
   ]
  },
  {
   "cell_type": "code",
   "execution_count": 27,
   "id": "fa39665c",
   "metadata": {},
   "outputs": [
    {
     "name": "stdout",
     "output_type": "stream",
     "text": [
      "Normalized Age:\n",
      "[[0.08333333]\n",
      " [0.        ]\n",
      " [0.27777778]\n",
      " [0.69444444]\n",
      " [0.88888889]\n",
      " [0.08333333]\n",
      " [0.16666667]\n",
      " [0.33333333]\n",
      " [1.        ]\n",
      " [0.86111111]]\n"
     ]
    }
   ],
   "source": [
    "print(\"Normalized Age:\")\n",
    "print(Normalized_Age)"
   ]
  },
  {
   "cell_type": "code",
   "execution_count": null,
   "id": "b9bb2103",
   "metadata": {},
   "outputs": [],
   "source": []
  }
 ],
 "metadata": {
  "kernelspec": {
   "display_name": "Python 3 (ipykernel)",
   "language": "python",
   "name": "python3"
  },
  "language_info": {
   "codemirror_mode": {
    "name": "ipython",
    "version": 3
   },
   "file_extension": ".py",
   "mimetype": "text/x-python",
   "name": "python",
   "nbconvert_exporter": "python",
   "pygments_lexer": "ipython3",
   "version": "3.9.12"
  }
 },
 "nbformat": 4,
 "nbformat_minor": 5
}
